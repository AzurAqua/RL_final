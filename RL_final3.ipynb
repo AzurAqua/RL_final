{
 "cells": [
  {
   "cell_type": "code",
   "execution_count": 1,
   "metadata": {},
   "outputs": [],
   "source": [
    "#导入必要的库\n",
    "\n",
    "import re\n",
    "import json\n",
    "import numpy as np\n",
    "import sympy\n",
    "import gym\n",
    "import random"
   ]
  },
  {
   "cell_type": "markdown",
   "metadata": {},
   "source": [
    "函数定义区"
   ]
  },
  {
   "cell_type": "code",
   "execution_count": 19,
   "metadata": {},
   "outputs": [],
   "source": [
    "def extract_scrambled_expressions(file_path):\n",
    "    \"\"\"\n",
    "    从文件中提取Scrambled expression开头之后的表达式\n",
    "    \"\"\"\n",
    "    expressions = []\n",
    "    with open(file_path, 'r', encoding='utf-8') as f:\n",
    "        for line in f:\n",
    "            if line.startswith(\"Scrambled expression :\"):\n",
    "                expr = line.strip().split(\":\", 1)[1].strip()\n",
    "                expressions.append(expr)\n",
    "    return expressions\n",
    "\n",
    "def extract_polylog_terms(expr_str):\n",
    "    \"\"\"\n",
    "    提取 polylog(2, ...) 项，并带上前面的系数。\n",
    "    返回结构为：[(系数, 参数表达式)](默认为Li_2)\n",
    "    \"\"\"\n",
    "    pattern = r'([+\\-]?\\s*\\d*\\.?\\d*)\\*?polylog\\(2,\\s*(.*?)\\)'\n",
    "    matches = re.findall(pattern, expr_str)\n",
    "    terms = []\n",
    "    for coeff, arg in matches:\n",
    "        coeff = coeff.replace(\" \", \"\")\n",
    "        coeff = coeff if coeff not in ['', '+', '-'] else coeff + '1'\n",
    "        terms.append((coeff, arg))\n",
    "    return terms\n",
    "\n",
    "def build_prefix(tokens):\n",
    "    return ['add'] + tokens\n",
    "\n",
    "def generate_prefix(expr_str):\n",
    "    \"\"\"\n",
    "    将str转化为前缀表达式\n",
    "    \"\"\"\n",
    "    terms = extract_polylog_terms(expr_str)\n",
    "    prefix_expr = []\n",
    "    for coeff, arg in terms:\n",
    "        # 前缀形式为：mul, 系数, polylog, 2, 参数\n",
    "        prefix_expr.extend(['mul', coeff, 'polylog', '2', arg])\n",
    "    return build_prefix(prefix_expr)"
   ]
  },
  {
   "cell_type": "code",
   "execution_count": 20,
   "metadata": {},
   "outputs": [
    {
     "name": "stdout",
     "output_type": "stream",
     "text": [
      "[('3', 'x'), ('+4', 'x**2')]\n",
      "[('2', 'x'), ('-1', '1 - x'), ('1', 'y/(1+y')]\n"
     ]
    }
   ],
   "source": [
    "print(extract_polylog_terms(\"3*polylog(2,x) + 4*polylog(2,x**2)\"))\n",
    "print(extract_polylog_terms(\"2*polylog(2, x) - polylog(2, 1 - x) + 3.5 * polylog(2, y/(1+y))\"))"
   ]
  }
 ],
 "metadata": {
  "kernelspec": {
   "display_name": "venv",
   "language": "python",
   "name": "python3"
  },
  "language_info": {
   "codemirror_mode": {
    "name": "ipython",
    "version": 3
   },
   "file_extension": ".py",
   "mimetype": "text/x-python",
   "name": "python",
   "nbconvert_exporter": "python",
   "pygments_lexer": "ipython3",
   "version": "3.11.2"
  }
 },
 "nbformat": 4,
 "nbformat_minor": 2
}
